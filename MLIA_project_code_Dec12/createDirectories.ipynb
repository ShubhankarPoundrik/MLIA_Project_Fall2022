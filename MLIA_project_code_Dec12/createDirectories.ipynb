{
 "cells": [
  {
   "cell_type": "code",
   "execution_count": 8,
   "metadata": {},
   "outputs": [
    {
     "name": "stdout",
     "output_type": "stream",
     "text": [
      "Done\n"
     ]
    }
   ],
   "source": [
    "\n",
    "\n",
    "!rm -rf /home/ufh6ft/mlia\n",
    "\n",
    "!mkdir /home/ufh6ft/mlia\n",
    "\n",
    "\n",
    "!mkdir /home/ufh6ft/mlia/data_imgs_aug\n",
    "\n",
    "!mkdir /home/ufh6ft/mlia/data_imgs_aug/train\n",
    "!mkdir /home/ufh6ft/mlia/data_imgs_aug/test\n",
    "!mkdir /home/ufh6ft/mlia/data_imgs_aug/trainannot\n",
    "!mkdir /home/ufh6ft/mlia/data_imgs_aug/testannot\n",
    "!mkdir /home/ufh6ft/mlia/data_imgs_aug/testNoLabel\n",
    "!mkdir /home/ufh6ft/mlia/results\n",
    "\n",
    "!echo Done"
   ]
  },
  {
   "cell_type": "code",
   "execution_count": null,
   "metadata": {},
   "outputs": [],
   "source": []
  }
 ],
 "metadata": {
  "kernelspec": {
   "display_name": "Python 3",
   "language": "python",
   "name": "python3"
  },
  "language_info": {
   "codemirror_mode": {
    "name": "ipython",
    "version": 3
   },
   "file_extension": ".py",
   "mimetype": "text/x-python",
   "name": "python",
   "nbconvert_exporter": "python",
   "pygments_lexer": "ipython3",
   "version": "3.8.8"
  }
 },
 "nbformat": 4,
 "nbformat_minor": 4
}
